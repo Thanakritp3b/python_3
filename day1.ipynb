{
 "cells": [
  {
   "cell_type": "markdown",
   "metadata": {},
   "source": [
    "## fly-circle game"
   ]
  },
  {
   "cell_type": "code",
   "execution_count": 72,
   "metadata": {},
   "outputs": [
    {
     "name": "stdout",
     "output_type": "stream",
     "text": [
      "pygame 2.6.1 (SDL 2.28.4, Python 3.12.3)\n",
      "Hello from the pygame community. https://www.pygame.org/contribute.html\n"
     ]
    },
    {
     "ename": "KeyboardInterrupt",
     "evalue": "",
     "output_type": "error",
     "traceback": [
      "\u001b[0;31m---------------------------------------------------------------------------\u001b[0m",
      "\u001b[0;31mKeyboardInterrupt\u001b[0m                         Traceback (most recent call last)",
      "Cell \u001b[0;32mIn[72], line 43\u001b[0m\n\u001b[1;32m     41\u001b[0m     c\u001b[38;5;241m.\u001b[39mdraw(screen)\n\u001b[1;32m     42\u001b[0m     pygame\u001b[38;5;241m.\u001b[39mdisplay\u001b[38;5;241m.\u001b[39mflip()\n\u001b[0;32m---> 43\u001b[0m     \u001b[43mclock\u001b[49m\u001b[38;5;241;43m.\u001b[39;49m\u001b[43mtick\u001b[49m\u001b[43m(\u001b[49m\u001b[38;5;241;43m60\u001b[39;49m\u001b[43m)\u001b[49m\n\u001b[1;32m     45\u001b[0m pygame\u001b[38;5;241m.\u001b[39mquit()\n",
      "\u001b[0;31mKeyboardInterrupt\u001b[0m: "
     ]
    }
   ],
   "source": [
    "import pygame\n",
    "\n",
    "class Circle:\n",
    "    def __init__(self, radius, x, y) -> None:\n",
    "        self.radius = radius\n",
    "        self.x = x\n",
    "        self.y = y\n",
    "        self.color = (255, 0, 0)\n",
    "        self.speed = 5\n",
    "        self.dx = self.speed  \n",
    "        self.dy = 1          # Change this\n",
    "        \n",
    "    def draw(self, screen) -> None:\n",
    "        pygame.draw.circle(screen, self.color, (int(self.x), int(self.y)), self.radius)\n",
    "    \n",
    "    def move(self, SCREEN_WIDTH, SCREEN_HEIGHT):\n",
    "        self.x += self.dx\n",
    "        self.y += self.dy\n",
    "        \n",
    "        if self.x + self.radius >= SCREEN_WIDTH or self.x - self.radius <= 0:\n",
    "            self.dx = -self.dx\n",
    "            \n",
    "        if self.y + self.radius >= SCREEN_HEIGHT or self.y - self.radius <= 0:\n",
    "            self.dy = -self.dy\n",
    "            \n",
    "\n",
    "if __name__ == \"__main__\":\n",
    "    pygame.init()\n",
    "    \n",
    "    SCREEN_WIDTH = 400\n",
    "    SCREEN_HEIGHT = 400\n",
    "    screen = pygame.display.set_mode((SCREEN_WIDTH, SCREEN_HEIGHT))    \n",
    "    c = Circle(10, 50, 100)\n",
    "    \n",
    "    clock = pygame.time.Clock()\n",
    "    \n",
    "    running = True\n",
    "    while running:\n",
    "        c.move(SCREEN_WIDTH, SCREEN_HEIGHT)\n",
    "        screen.fill((255, 255, 255))\n",
    "        c.draw(screen)\n",
    "        pygame.display.flip()\n",
    "        clock.tick(60)\n",
    "    \n",
    "    pygame.quit()"
   ]
  }
 ],
 "metadata": {
  "kernelspec": {
   "display_name": "condav1",
   "language": "python",
   "name": "python3"
  },
  "language_info": {
   "codemirror_mode": {
    "name": "ipython",
    "version": 3
   },
   "file_extension": ".py",
   "mimetype": "text/x-python",
   "name": "python",
   "nbconvert_exporter": "python",
   "pygments_lexer": "ipython3",
   "version": "3.12.3"
  }
 },
 "nbformat": 4,
 "nbformat_minor": 2
}
