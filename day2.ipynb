{
 "cells": [
  {
   "cell_type": "markdown",
   "metadata": {},
   "source": [
    "# Multiple Circle"
   ]
  },
  {
   "cell_type": "code",
   "execution_count": 1,
   "metadata": {},
   "outputs": [
    {
     "name": "stdout",
     "output_type": "stream",
     "text": [
      "pygame 2.6.1 (SDL 2.28.4, Python 3.12.3)\n",
      "Hello from the pygame community. https://www.pygame.org/contribute.html\n"
     ]
    },
    {
     "ename": "",
     "evalue": "",
     "output_type": "error",
     "traceback": [
      "\u001b[1;31mThe Kernel crashed while executing code in the current cell or a previous cell. \n",
      "\u001b[1;31mPlease review the code in the cell(s) to identify a possible cause of the failure. \n",
      "\u001b[1;31mClick <a href='https://aka.ms/vscodeJupyterKernelCrash'>here</a> for more info. \n",
      "\u001b[1;31mView Jupyter <a href='command:jupyter.viewOutput'>log</a> for further details."
     ]
    }
   ],
   "source": [
    "#pls run in python file\n",
    "\n",
    "import pygame\n",
    "from random import randint\n",
    "class Circle:\n",
    "    def __init__(self, radius, x, y, speed, dy, color) -> None:\n",
    "        self.radius = radius\n",
    "        self.x = x\n",
    "        self.y = y\n",
    "        self.color = color\n",
    "        self.speed = speed\n",
    "        self.dx = self.speed  \n",
    "        self.dy = dy     \n",
    "        \n",
    "    def draw(self, screen) -> None:\n",
    "        pygame.draw.circle(screen, self.color, (int(self.x), int(self.y)), self.radius)\n",
    "    \n",
    "    def move(self, SCREEN_WIDTH, SCREEN_HEIGHT):\n",
    "        self.x += self.dx\n",
    "        self.y += self.dy\n",
    "        \n",
    "        if self.x >= SCREEN_WIDTH or self.x  < 0:   \n",
    "            self.dx = -self.dx\n",
    "            \n",
    "        if self.y >= SCREEN_HEIGHT or self.y < 0:\n",
    "            self.dy = -self.dy\n",
    "            \n",
    "\n",
    "if __name__ == \"__main__\":\n",
    "    pygame.init()\n",
    "    \n",
    "    SCREEN_WIDTH = 600\n",
    "    SCREEN_HEIGHT = 600\n",
    "    screen = pygame.display.set_mode((SCREEN_WIDTH, SCREEN_HEIGHT))\n",
    "    number_of_circle = int(input())\n",
    "    circle_group = []\n",
    "    for i in range(number_of_circle):\n",
    "        r = randint(10,50)\n",
    "        c = Circle(\n",
    "            r,\n",
    "            randint(r+1,SCREEN_WIDTH - 1),\n",
    "            randint(r+1,SCREEN_HEIGHT - 1),\n",
    "            randint(1,10),\n",
    "            randint(1,10),\n",
    "            (randint(0,255),randint(0,255),randint(0,255))\n",
    "        )\n",
    "        circle_group.append(c)\n",
    "    clock = pygame.time.Clock()\n",
    "    \n",
    "    running = True\n",
    "    while running:\n",
    "        for event in pygame.event.get():\n",
    "            if event.type == pygame.QUIT:\n",
    "                running = False\n",
    "\n",
    "        screen.fill((255, 255, 255))\n",
    "\n",
    "        for x in circle_group:\n",
    "            x.move(SCREEN_WIDTH, SCREEN_HEIGHT)\n",
    "            x.draw(screen)\n",
    "        pygame.display.flip()\n",
    "        clock.tick(60)\n",
    "    \n",
    "    pygame.quit()"
   ]
  },
  {
   "cell_type": "markdown",
   "metadata": {},
   "source": [
    "# Bouncing Ball"
   ]
  },
  {
   "cell_type": "code",
   "execution_count": 1,
   "metadata": {},
   "outputs": [
    {
     "name": "stdout",
     "output_type": "stream",
     "text": [
      "pygame 2.6.1 (SDL 2.28.4, Python 3.12.3)\n",
      "Hello from the pygame community. https://www.pygame.org/contribute.html\n"
     ]
    },
    {
     "ename": "",
     "evalue": "",
     "output_type": "error",
     "traceback": [
      "\u001b[1;31mThe Kernel crashed while executing code in the current cell or a previous cell. \n",
      "\u001b[1;31mPlease review the code in the cell(s) to identify a possible cause of the failure. \n",
      "\u001b[1;31mClick <a href='https://aka.ms/vscodeJupyterKernelCrash'>here</a> for more info. \n",
      "\u001b[1;31mView Jupyter <a href='command:jupyter.viewOutput'>log</a> for further details."
     ]
    }
   ],
   "source": [
    "#pls run in python file\n",
    "\n",
    "import pygame\n",
    "from random import randint\n",
    "class Circle:\n",
    "    def __init__(self, radius, x, y, speed, dy, color) -> None:\n",
    "        self.radius = radius\n",
    "        self.x = x\n",
    "        self.y = y\n",
    "        self.color = color\n",
    "        self.speed = speed\n",
    "        self.dx = self.speed  \n",
    "        self.dy = dy     \n",
    "        \n",
    "    def draw(self, screen) -> None:\n",
    "        pygame.draw.circle(screen, self.color, (int(self.x), int(self.y)), self.radius)\n",
    "    \n",
    "    def move(self, SCREEN_WIDTH, SCREEN_HEIGHT, set):\n",
    "        self.x += self.dx\n",
    "        self.y += self.dy\n",
    "        \n",
    "        if self.x >= SCREEN_WIDTH or self.x  < 0:    \n",
    "            self.dx = -self.dx\n",
    "            \n",
    "        if self.y >= SCREEN_HEIGHT or self.y < 0:\n",
    "            self.dy = -self.dy\n",
    "\n",
    "        for i in set:\n",
    "            if i != self:\n",
    "                if (self.x - i.x)**2 + (self.y - i.y)**2 <= (self.radius + i.radius)**2:\n",
    "                    self.dx = -self.dx\n",
    "                    self.dy = -self.dy\n",
    "                    i.dx = -i.dx\n",
    "                    i.dy = -i.dy\n",
    "        \n",
    "        \n",
    "            \n",
    "\n",
    "if __name__ == \"__main__\":\n",
    "    pygame.init()\n",
    "    \n",
    "    SCREEN_WIDTH = 600\n",
    "    SCREEN_HEIGHT = 600\n",
    "    screen = pygame.display.set_mode((SCREEN_WIDTH, SCREEN_HEIGHT))\n",
    "    number_of_circle = int(input())\n",
    "    circle_group = []\n",
    "    for i in range(number_of_circle):\n",
    "        r = randint(10,50)\n",
    "        c = Circle(\n",
    "            r,\n",
    "            randint(r+1,SCREEN_WIDTH - 1),\n",
    "            randint(r+1,SCREEN_HEIGHT - 1),\n",
    "            randint(1,5),\n",
    "            randint(1,10),\n",
    "            (randint(0,255),randint(0,255),randint(0,255))\n",
    "        )\n",
    "        circle_group.append(c)\n",
    "    clock = pygame.time.Clock()\n",
    "    \n",
    "    running = True\n",
    "    while running:\n",
    "        for event in pygame.event.get():\n",
    "            if event.type == pygame.QUIT:\n",
    "                running = False\n",
    "        \n",
    "        screen.fill((255, 255, 255))\n",
    "        \n",
    "        for x in circle_group:\n",
    "            x.move(SCREEN_WIDTH, SCREEN_HEIGHT, circle_group)\n",
    "            x.draw(screen)\n",
    "        pygame.display.flip()\n",
    "        clock.tick(60)\n",
    "    \n",
    "    pygame.quit()"
   ]
  },
  {
   "cell_type": "markdown",
   "metadata": {},
   "source": [
    "# Socket"
   ]
  },
  {
   "cell_type": "code",
   "execution_count": 1,
   "metadata": {},
   "outputs": [
    {
     "name": "stdout",
     "output_type": "stream",
     "text": [
      "Received b'HTTP/1.1 200 OK\\r\\nDate: Tue, 14 Jan 2025 04:11:58 GMT\\r\\nServer: Apache\\r\\nUpgrade: h2,h2c\\r\\nConnection: Upgrade\\r\\nLast-Modified: Tue, 12 Apr 2016 17:14:47 GMT\\r\\nETag: \"eb43-5304ccc578baa\"\\r\\nAccept-Ranges: bytes\\r\\nContent-Length: 60227\\r\\nVary: Accept-Encoding,User-Agent\\r\\nContent-Type: text/html\\r\\n\\r\\n<!DOCTYPE html PUBLIC \"-//W3C//DTD XHTML 1.0 Transitional//EN\" \"http://www.w3.org/TR/xhtml1/DTD/xhtml1-transitional.dtd\">\\n<html>\\n<head>\\n<title></title>\\n<style type=\"text/css\"><!--\\nhtml {height:100%;overflow:hidden;} body {background: #ffffff;background: url(data:image/svg+xml;base64,PD94bWwgdmVyc2lvbj0iMS4wIiA/Pgo8c3ZnIHhtbG5zPSJodHRwOi8vd3d3LnczLm9yZy8yMDAwL3N2ZyIgd2lkdGg9IjEwMCUiIGhlaWdodD0iMTAwJSIgdmlld0JveD0iMCAwIDEgMSIgcHJlc2VydmVBc3BlY3RSYXRpbz0ibm9uZSI+CiAgPGxpbmVhckdyYWRpZW50IGlkPSJncmFkLXVjZ2ctZ2VuZXJhdGVkIiBncmFkaWVudFVuaXRzPSJ1c2VyU3BhY2VPblVzZSIgeDE9IjAlIiB5MT0iMCUiIHgyPSIwJSIgeTI9IjEwMCUiPgogICAgPHN0b3Agb2Zmc2V0PSIwJSIgc3RvcC1jb2xvcj0iI2ZmZmZmZiIgc3RvcC1vcGFjaXR5PSIxIi8+CiAgICA8c3RvcCBvZmZzZXQ9IjEwMCUiIHN0b3AtY29s'\n"
     ]
    }
   ],
   "source": [
    "import socket\n",
    "\n",
    "HOST = 'test.net'\n",
    "PORT = 80\n",
    "\n",
    "with socket.socket(socket.AF_INET, socket.SOCK_STREAM) as s:    #scoket.AF_INET: ipv4, socket.SOCK_STREAM: TCP\n",
    "    s.connect((HOST, PORT))\n",
    "    s.sendall(b'GET / HTTP/1.1\\r\\nHost: test.net\\r\\n\\r\\n')\n",
    "    data = s.recv(1024)\n",
    "print('Received', repr(data))"
   ]
  },
  {
   "cell_type": "markdown",
   "metadata": {},
   "source": []
  }
 ],
 "metadata": {
  "kernelspec": {
   "display_name": "condav1",
   "language": "python",
   "name": "python3"
  },
  "language_info": {
   "codemirror_mode": {
    "name": "ipython",
    "version": 3
   },
   "file_extension": ".py",
   "mimetype": "text/x-python",
   "name": "python",
   "nbconvert_exporter": "python",
   "pygments_lexer": "ipython3",
   "version": "3.12.3"
  }
 },
 "nbformat": 4,
 "nbformat_minor": 2
}
